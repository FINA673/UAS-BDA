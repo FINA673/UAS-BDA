{
 "cells": [
  {
   "cell_type": "code",
   "execution_count": 1,
   "id": "c2b64a22",
   "metadata": {},
   "outputs": [],
   "source": [
    "import numpy as np"
   ]
  },
  {
   "cell_type": "code",
   "execution_count": 2,
   "id": "ff897ebb",
   "metadata": {},
   "outputs": [],
   "source": [
    "#menentukan bentuk lingkungan (yaitu, statusnya)\n",
    "environment_rows = 11\n",
    "environment_columns = 11\n",
    "\n",
    "#buat array numpy 3D untuk menampung nilai Q saat ini untuk setiap pasangan status dan tindakan: Q(s, a)\n",
    "q_values = np.zeros((environment_rows, environment_columns, 4))"
   ]
  },
  {
   "cell_type": "code",
   "execution_count": 3,
   "id": "8ef12707",
   "metadata": {},
   "outputs": [],
   "source": [
    "#definisikan tindakan\n",
    "#kode tindakan numerik: 0 = up, 1 = right, 2 = down, 3 = left\n",
    "actions = ['up', 'right', 'down', 'left']"
   ]
  },
  {
   "cell_type": "code",
   "execution_count": 4,
   "id": "c2b8d375",
   "metadata": {},
   "outputs": [
    {
     "name": "stdout",
     "output_type": "stream",
     "text": [
      "[-100. -100. -100. -100. -100.  100. -100. -100. -100. -100. -100.]\n",
      "[-100.   -1.   -1.   -1.   -1.   -1.   -1.   -1.   -1.   -1. -100.]\n",
      "[-100.   -1. -100. -100. -100. -100. -100.   -1. -100.   -1. -100.]\n",
      "[-100.   -1.   -1.   -1.   -1.   -1.   -1.   -1. -100.   -1. -100.]\n",
      "[-100. -100. -100.   -1. -100. -100. -100.   -1. -100. -100. -100.]\n",
      "[-1. -1. -1. -1. -1. -1. -1. -1. -1. -1. -1.]\n",
      "[-100. -100. -100. -100. -100.   -1. -100. -100. -100. -100. -100.]\n",
      "[-100.   -1.   -1.   -1.   -1.   -1.   -1.   -1.   -1.   -1. -100.]\n",
      "[-100. -100. -100.   -1. -100. -100. -100.   -1. -100. -100. -100.]\n",
      "[-1. -1. -1. -1. -1. -1. -1. -1. -1. -1. -1.]\n",
      "[-100. -100. -100. -100. -100. -100. -100. -100. -100. -100. -100.]\n"
     ]
    }
   ],
   "source": [
    "#Buat array numpy 2D untuk menampung hadiah untuk setiap negara bagian.\n",
    "#Array berisi 11 baris dan 11 kolom (agar sesuai dengan bentuk lingkungan), dan setiap nilai diinisialisasi ke -100.\n",
    "rewards = np.full((environment_rows, environment_columns), -100.)\n",
    "rewards[0, 5] = 100. #atur hadiah untuk area pengemasan (yaitu sasaran) menjadi 100\n",
    "\n",
    "#tentukan lokasi lorong (yaitu kotak putih) untuk baris 1 hingga 9\n",
    "aisles = {} #menyimpan lokasi di kamus\n",
    "aisles[1] = [i for i in range(1, 10)]\n",
    "aisles[2] = [1, 7, 9]\n",
    "aisles[3] = [i for i in range(1, 8)]\n",
    "aisles[3].append(9)\n",
    "aisles[4] = [3, 7]\n",
    "aisles[5] = [i for i in range(11)]\n",
    "aisles[6] = [5]\n",
    "aisles[7] = [i for i in range(1, 10)]\n",
    "aisles[8] = [3, 7]\n",
    "aisles[9] = [i for i in range(11)]\n",
    "\n",
    "#atur hadiah untuk semua lokasi lorong (yaitu kotak putih)\n",
    "for row_index in range(1, 10):\n",
    "  for column_index in aisles[row_index]:\n",
    "    rewards[row_index, column_index] = -1.\n",
    "  \n",
    "#print rewards matrix\n",
    "for row in rewards:\n",
    "  print(row)"
   ]
  },
  {
   "cell_type": "code",
   "execution_count": 5,
   "id": "81aa3e0e",
   "metadata": {},
   "outputs": [],
   "source": [
    "#mendefinisikan fungsi yang menentukan apakah lokasi yang ditentukan adalah status terminal\n",
    "def is_terminal_state(current_row_index, current_column_index):\n",
    "  #jika hadiah untuk lokasi ini adalah -1, maka lokasi tersebut bukan status terminal (yakni 'kotak putih')\n",
    "  if rewards[current_row_index, current_column_index] == -1.:\n",
    "    return False\n",
    "  else:\n",
    "    return True"
   ]
  },
  {
   "cell_type": "code",
   "execution_count": 6,
   "id": "492e2270",
   "metadata": {},
   "outputs": [],
   "source": [
    "#mendefinisikan fungsi yang akan memilih lokasi awal non-terminal secara acak\n",
    "def get_starting_location():\n",
    "  #dapatkan indeks baris dan kolom acak\n",
    "  current_row_index = np.random.randint(environment_rows)\n",
    "  current_column_index = np.random.randint(environment_columns)\n",
    "  #lanjutkan memilih indeks baris dan kolom acak hingga status non-terminal teridentifikasi\n",
    "  #(yaitu, hingga negara bagian yang dipilih adalah 'kotak putih').\n",
    "  while is_terminal_state(current_row_index, current_column_index):\n",
    "    current_row_index = np.random.randint(environment_rows)\n",
    "    current_column_index = np.random.randint(environment_columns)\n",
    "  return current_row_index, current_column_index"
   ]
  },
  {
   "cell_type": "code",
   "execution_count": 7,
   "id": "4c0362f0",
   "metadata": {},
   "outputs": [],
   "source": [
    "#tentukan algoritma serakah epsilon yang akan memilih tindakan mana yang harus diambil selanjutnya (yaitu, ke mana harus bergerak selanjutnya)\n",
    "def get_next_action(current_row_index, current_column_index, epsilon):\n",
    "  #jika nilai yang dipilih secara acak antara 0 dan 1 lebih kecil dari epsilon, \n",
    "  #lalu pilih nilai yang paling menjanjikan dari tabel Q untuk keadaan ini.\n",
    "  if np.random.random() < epsilon:\n",
    "    return np.argmax(q_values[current_row_index, current_column_index])\n",
    "  else: #memilih tindakan acak\n",
    "    return np.random.randint(4)"
   ]
  },
  {
   "cell_type": "code",
   "execution_count": 8,
   "id": "7cf81f4a",
   "metadata": {},
   "outputs": [],
   "source": [
    "#tentukan fungsi yang akan mendapatkan lokasi berikutnya berdasarkan tindakan yang dipilih\n",
    "def get_next_location(current_row_index, current_column_index, action_index):\n",
    "  new_row_index = current_row_index\n",
    "  new_column_index = current_column_index\n",
    "  if actions[action_index] == 'up' and current_row_index > 0:\n",
    "    new_row_index -= 1\n",
    "  elif actions[action_index] == 'right' and current_column_index < environment_columns - 1:\n",
    "    new_column_index += 1\n",
    "  elif actions[action_index] == 'down' and current_row_index < environment_rows - 1:\n",
    "    new_row_index += 1\n",
    "  elif actions[action_index] == 'left' and current_column_index > 0:\n",
    "    new_column_index -= 1\n",
    "  return new_row_index, new_column_index"
   ]
  },
  {
   "cell_type": "code",
   "execution_count": 9,
   "id": "84d52269",
   "metadata": {},
   "outputs": [],
   "source": [
    "#Tentukan fungsi yang akan mendapatkan jalur terpendek antara lokasi mana pun di dalam gudang itu\n",
    "#robot diperbolehkan melakukan perjalanan dan lokasi pengemasan barang.\n",
    "def get_shortest_path(start_row_index, start_column_index):\n",
    "  #segera kembali jika ini adalah lokasi awal yang tidak valid\n",
    "  if is_terminal_state(start_row_index, start_column_index):\n",
    "    return []\n",
    "  else: #jika ini adalah lokasi awal yang 'legal'\n",
    "    current_row_index, current_column_index = start_row_index, start_column_index\n",
    "    shortest_path = []\n",
    "    shortest_path.append([current_row_index, current_column_index])\n",
    "    #terus bergerak sepanjang jalan sampai kita mencapai tujuan (yaitu lokasi pengemasan barang)\n",
    "    while not is_terminal_state(current_row_index, current_column_index):\n",
    "      #mendapatkan tindakan terbaik untuk diambil\n",
    "      action_index = get_next_action(current_row_index, current_column_index, 1.)\n",
    "      #pindah ke lokasi berikutnya di jalur tersebut, dan tambahkan lokasi baru ke daftar\n",
    "      current_row_index, current_column_index = get_next_location(current_row_index, current_column_index, action_index)\n",
    "      shortest_path.append([current_row_index, current_column_index])\n",
    "    return shortest_path"
   ]
  },
  {
   "cell_type": "code",
   "execution_count": 10,
   "id": "afcc91fa",
   "metadata": {},
   "outputs": [
    {
     "name": "stdout",
     "output_type": "stream",
     "text": [
      "Training complete!\n"
     ]
    }
   ],
   "source": [
    "#menentukan parameter pelatihan\n",
    "epsilon = 0.9 #persentase waktu ketika kita harus mengambil tindakan terbaik (bukan tindakan acak)\n",
    "discount_factor = 0.9 #faktor diskon untuk imbalan di masa depan\n",
    "learning_rate = 0.9 #tingkat di mana agen AI harus belajar\n",
    "\n",
    "#dijalankan melalui 1000 episode pelatihan\n",
    "for episode in range(1000):\n",
    "  #dapatkan lokasi awal untuk episode ini\n",
    "  row_index, column_index = get_starting_location()\n",
    "\n",
    "  #terus mengambil tindakan (yaitu bergerak) sampai kita mencapai keadaan terminal\n",
    "  #(yaitu, sampai kita mencapai area pengemasan barang atau menabrak lokasi penyimpanan barang)\n",
    "  while not is_terminal_state(row_index, column_index):\n",
    "    #memilih tindakan mana yang akan diambil (yaitu, ke mana harus bergerak selanjutnya)\n",
    "    action_index = get_next_action(row_index, column_index, epsilon)\n",
    "\n",
    "    #melakukan tindakan yang dipilih, dan beralih ke keadaan berikutnya (yaitu, pindah ke lokasi berikutnya)\n",
    "    old_row_index, old_column_index = row_index, column_index\n",
    "    row_index, column_index = get_next_location(row_index, column_index, action_index)\n",
    "    \n",
    "    #menerima hadiah untuk pindah ke negara bagian baru, dan menghitung perbedaan temporal\n",
    "    reward = rewards[row_index, column_index]\n",
    "    old_q_value = q_values[old_row_index, old_column_index, action_index]\n",
    "    temporal_difference = reward + (discount_factor * np.max(q_values[row_index, column_index])) - old_q_value\n",
    "\n",
    "    #perbarui nilai Q untuk pasangan status dan tindakan sebelumnya\n",
    "    new_q_value = old_q_value + (learning_rate * temporal_difference)\n",
    "    q_values[old_row_index, old_column_index, action_index] = new_q_value\n",
    "\n",
    "print('Training complete!')"
   ]
  },
  {
   "cell_type": "code",
   "execution_count": 11,
   "id": "123c1531",
   "metadata": {},
   "outputs": [
    {
     "name": "stdout",
     "output_type": "stream",
     "text": [
      "[[3, 9], [2, 9], [1, 9], [1, 8], [1, 7], [1, 6], [1, 5], [0, 5]]\n",
      "[[5, 0], [5, 1], [5, 2], [5, 3], [5, 4], [5, 5], [5, 6], [5, 7], [4, 7], [3, 7], [2, 7], [1, 7], [1, 6], [1, 5], [0, 5]]\n",
      "[[9, 5], [9, 6], [9, 7], [8, 7], [7, 7], [7, 6], [7, 5], [6, 5], [5, 5], [5, 6], [5, 7], [4, 7], [3, 7], [2, 7], [1, 7], [1, 6], [1, 5], [0, 5]]\n"
     ]
    }
   ],
   "source": [
    "#menampilkan beberapa jalur terpendek\n",
    "print(get_shortest_path(3, 9)) #starting at row 3, column 9\n",
    "print(get_shortest_path(5, 0)) #starting at row 5, column 0\n",
    "print(get_shortest_path(9, 5)) #starting at row 9, column 5"
   ]
  },
  {
   "cell_type": "code",
   "execution_count": 12,
   "id": "dcb95a63",
   "metadata": {},
   "outputs": [
    {
     "name": "stdout",
     "output_type": "stream",
     "text": [
      "[[0, 5], [1, 5], [1, 6], [1, 7], [2, 7], [3, 7], [4, 7], [5, 7], [5, 6], [5, 5], [5, 4], [5, 3], [5, 2]]\n"
     ]
    }
   ],
   "source": [
    "#tampilkan contoh jalur terpendek terbalik\n",
    "path = get_shortest_path(5, 2) #go to row 5, column 2\n",
    "path.reverse()\n",
    "print(path)"
   ]
  },
  {
   "cell_type": "code",
   "execution_count": null,
   "id": "c1f9faf0",
   "metadata": {},
   "outputs": [],
   "source": []
  }
 ],
 "metadata": {
  "kernelspec": {
   "display_name": "Python 3 (ipykernel)",
   "language": "python",
   "name": "python3"
  },
  "language_info": {
   "codemirror_mode": {
    "name": "ipython",
    "version": 3
   },
   "file_extension": ".py",
   "mimetype": "text/x-python",
   "name": "python",
   "nbconvert_exporter": "python",
   "pygments_lexer": "ipython3",
   "version": "3.11.5"
  }
 },
 "nbformat": 4,
 "nbformat_minor": 5
}
